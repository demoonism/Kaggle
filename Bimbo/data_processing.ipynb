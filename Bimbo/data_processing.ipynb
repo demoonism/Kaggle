{
 "cells": [
  {
   "cell_type": "code",
   "execution_count": 1,
   "metadata": {
    "collapsed": false
   },
   "outputs": [],
   "source": [
    "import numpy as np\n",
    "import pandas as pd\n",
    "import matplotlib.pyplot as plt\n",
    "import os\n",
    "from IPython.display import display_markdown as mkdown # as print\n",
    "\n",
    "def nl():\n",
    "    print('\\n')\n",
    "'''\n",
    "for f in os.listdir('/resources/data/Bimbo/train/'):\n",
    "    print(f.ljust(30) + str(round(os.path.getsize('/resources/data/Bimbo/train/' + f) / 1000000, 2)) + 'MB')\n",
    "'''\n",
    "def assemble_from_csvs(folder, cols):\n",
    "    return [pd.read_csv(os.path.join(folder, fl), sep=\",\", header=None, names=cols) \n",
    "            for fl in os.listdir(folder)] # concatenate here! saves code\n",
    "\n",
    "def assemble_from_csvs_train(folder, cols):\n",
    "    return [pd.read_csv(os.path.join(folder, fl), \n",
    "                        dtype  = {'Semana' : 'int32',\n",
    "                              'Agencia_ID' :'int32',\n",
    "                              'Canal_ID' : 'int32',\n",
    "                              'Ruta_SAK' : 'int32',\n",
    "                              'Cliente-ID' : 'int64',\n",
    "                              'Producto_ID':'int32',\n",
    "                              'Venta_hoy':'float32',\n",
    "                              'Venta_uni_hoy': 'int32',\n",
    "                              'Dev_uni_proxima':'int32',\n",
    "                              'Dev_proxima':'float32',\n",
    "                              'Demanda_uni_equil':'int32'},\n",
    "                        sep=\",\", header=None, names=cols) \n",
    "            for fl in os.listdir(folder)] # concatenate here! saves code\n"
   ]
  },
  {
   "cell_type": "code",
   "execution_count": 2,
   "metadata": {
    "collapsed": false
   },
   "outputs": [],
   "source": [
    "test_folder = \"/resources/data/Bimbo/test/\"\n",
    "test_cols = ['id','Semana','Agencia_ID','Canal_ID','Ruta_SAK','Cliente_ID','Producto_ID']\n",
    "test_list = assemble_from_csvs(test_folder, test_cols)\n",
    "test_df = pd.concat(test_list, axis=0, ignore_index=True)\n"
   ]
  },
  {
   "cell_type": "code",
   "execution_count": 3,
   "metadata": {
    "collapsed": false
   },
   "outputs": [
    {
     "data": {
      "text/html": [
       "<div>\n",
       "<table border=\"1\" class=\"dataframe\">\n",
       "  <thead>\n",
       "    <tr style=\"text-align: right;\">\n",
       "      <th></th>\n",
       "      <th>id</th>\n",
       "      <th>Semana</th>\n",
       "      <th>Agencia_ID</th>\n",
       "      <th>Canal_ID</th>\n",
       "      <th>Ruta_SAK</th>\n",
       "      <th>Cliente_ID</th>\n",
       "      <th>Producto_ID</th>\n",
       "    </tr>\n",
       "  </thead>\n",
       "  <tbody>\n",
       "    <tr>\n",
       "      <th>0</th>\n",
       "      <td>3999999</td>\n",
       "      <td>11</td>\n",
       "      <td>2233</td>\n",
       "      <td>1</td>\n",
       "      <td>1214</td>\n",
       "      <td>8423811</td>\n",
       "      <td>31423</td>\n",
       "    </tr>\n",
       "    <tr>\n",
       "      <th>1</th>\n",
       "      <td>4000000</td>\n",
       "      <td>10</td>\n",
       "      <td>1122</td>\n",
       "      <td>1</td>\n",
       "      <td>1049</td>\n",
       "      <td>1130145</td>\n",
       "      <td>1146</td>\n",
       "    </tr>\n",
       "    <tr>\n",
       "      <th>2</th>\n",
       "      <td>4000001</td>\n",
       "      <td>11</td>\n",
       "      <td>4046</td>\n",
       "      <td>1</td>\n",
       "      <td>1129</td>\n",
       "      <td>587111</td>\n",
       "      <td>43118</td>\n",
       "    </tr>\n",
       "    <tr>\n",
       "      <th>3</th>\n",
       "      <td>4000002</td>\n",
       "      <td>10</td>\n",
       "      <td>2220</td>\n",
       "      <td>1</td>\n",
       "      <td>4424</td>\n",
       "      <td>4471730</td>\n",
       "      <td>34225</td>\n",
       "    </tr>\n",
       "    <tr>\n",
       "      <th>4</th>\n",
       "      <td>4000003</td>\n",
       "      <td>11</td>\n",
       "      <td>1224</td>\n",
       "      <td>1</td>\n",
       "      <td>2158</td>\n",
       "      <td>1161803</td>\n",
       "      <td>36747</td>\n",
       "    </tr>\n",
       "  </tbody>\n",
       "</table>\n",
       "</div>"
      ],
      "text/plain": [
       "        id  Semana  Agencia_ID  Canal_ID  Ruta_SAK  Cliente_ID  Producto_ID\n",
       "0  3999999      11        2233         1      1214     8423811        31423\n",
       "1  4000000      10        1122         1      1049     1130145         1146\n",
       "2  4000001      11        4046         1      1129      587111        43118\n",
       "3  4000002      10        2220         1      4424     4471730        34225\n",
       "4  4000003      11        1224         1      2158     1161803        36747"
      ]
     },
     "execution_count": 3,
     "metadata": {},
     "output_type": "execute_result"
    }
   ],
   "source": [
    "test_df.head()"
   ]
  },
  {
   "cell_type": "code",
   "execution_count": 4,
   "metadata": {
    "collapsed": true
   },
   "outputs": [],
   "source": [
    "test_df = test_df.sort_values(by = 'id')\n",
    "test_df.reset_index(drop=True, inplace=True)"
   ]
  },
  {
   "cell_type": "code",
   "execution_count": 5,
   "metadata": {
    "collapsed": false
   },
   "outputs": [
    {
     "data": {
      "text/html": [
       "<div>\n",
       "<table border=\"1\" class=\"dataframe\">\n",
       "  <thead>\n",
       "    <tr style=\"text-align: right;\">\n",
       "      <th></th>\n",
       "      <th>id</th>\n",
       "      <th>Semana</th>\n",
       "      <th>Agencia_ID</th>\n",
       "      <th>Canal_ID</th>\n",
       "      <th>Ruta_SAK</th>\n",
       "      <th>Cliente_ID</th>\n",
       "      <th>Producto_ID</th>\n",
       "    </tr>\n",
       "  </thead>\n",
       "  <tbody>\n",
       "    <tr>\n",
       "      <th>0</th>\n",
       "      <td>0</td>\n",
       "      <td>11</td>\n",
       "      <td>4037</td>\n",
       "      <td>1</td>\n",
       "      <td>2209</td>\n",
       "      <td>4639078</td>\n",
       "      <td>35305</td>\n",
       "    </tr>\n",
       "    <tr>\n",
       "      <th>1</th>\n",
       "      <td>1</td>\n",
       "      <td>11</td>\n",
       "      <td>2237</td>\n",
       "      <td>1</td>\n",
       "      <td>1226</td>\n",
       "      <td>4705135</td>\n",
       "      <td>1238</td>\n",
       "    </tr>\n",
       "    <tr>\n",
       "      <th>2</th>\n",
       "      <td>2</td>\n",
       "      <td>10</td>\n",
       "      <td>2045</td>\n",
       "      <td>1</td>\n",
       "      <td>2831</td>\n",
       "      <td>4549769</td>\n",
       "      <td>32940</td>\n",
       "    </tr>\n",
       "    <tr>\n",
       "      <th>3</th>\n",
       "      <td>3</td>\n",
       "      <td>11</td>\n",
       "      <td>1227</td>\n",
       "      <td>1</td>\n",
       "      <td>4448</td>\n",
       "      <td>4717855</td>\n",
       "      <td>43066</td>\n",
       "    </tr>\n",
       "    <tr>\n",
       "      <th>4</th>\n",
       "      <td>4</td>\n",
       "      <td>11</td>\n",
       "      <td>1219</td>\n",
       "      <td>1</td>\n",
       "      <td>1130</td>\n",
       "      <td>966351</td>\n",
       "      <td>1277</td>\n",
       "    </tr>\n",
       "  </tbody>\n",
       "</table>\n",
       "</div>"
      ],
      "text/plain": [
       "   id  Semana  Agencia_ID  Canal_ID  Ruta_SAK  Cliente_ID  Producto_ID\n",
       "0   0      11        4037         1      2209     4639078        35305\n",
       "1   1      11        2237         1      1226     4705135         1238\n",
       "2   2      10        2045         1      2831     4549769        32940\n",
       "3   3      11        1227         1      4448     4717855        43066\n",
       "4   4      11        1219         1      1130      966351         1277"
      ]
     },
     "execution_count": 5,
     "metadata": {},
     "output_type": "execute_result"
    }
   ],
   "source": [
    "test_df.head()"
   ]
  },
  {
   "cell_type": "code",
   "execution_count": 7,
   "metadata": {
    "collapsed": false
   },
   "outputs": [
    {
     "data": {
      "text/html": [
       "<div>\n",
       "<table border=\"1\" class=\"dataframe\">\n",
       "  <thead>\n",
       "    <tr style=\"text-align: right;\">\n",
       "      <th></th>\n",
       "      <th>id</th>\n",
       "      <th>Semana</th>\n",
       "      <th>Agencia_ID</th>\n",
       "      <th>Canal_ID</th>\n",
       "      <th>Ruta_SAK</th>\n",
       "      <th>Cliente_ID</th>\n",
       "      <th>Producto_ID</th>\n",
       "    </tr>\n",
       "  </thead>\n",
       "  <tbody>\n",
       "    <tr>\n",
       "      <th>count</th>\n",
       "      <td>6.999251e+06</td>\n",
       "      <td>6.999251e+06</td>\n",
       "      <td>6.999251e+06</td>\n",
       "      <td>6.999251e+06</td>\n",
       "      <td>6.999251e+06</td>\n",
       "      <td>6.999251e+06</td>\n",
       "      <td>6.999251e+06</td>\n",
       "    </tr>\n",
       "    <tr>\n",
       "      <th>mean</th>\n",
       "      <td>3.499625e+06</td>\n",
       "      <td>1.049446e+01</td>\n",
       "      <td>2.504463e+03</td>\n",
       "      <td>1.401874e+00</td>\n",
       "      <td>2.138014e+03</td>\n",
       "      <td>1.819128e+06</td>\n",
       "      <td>2.216307e+04</td>\n",
       "    </tr>\n",
       "    <tr>\n",
       "      <th>std</th>\n",
       "      <td>2.020510e+06</td>\n",
       "      <td>4.999694e-01</td>\n",
       "      <td>4.010228e+03</td>\n",
       "      <td>1.513404e+00</td>\n",
       "      <td>1.500392e+03</td>\n",
       "      <td>2.938910e+06</td>\n",
       "      <td>1.869816e+04</td>\n",
       "    </tr>\n",
       "    <tr>\n",
       "      <th>min</th>\n",
       "      <td>0.000000e+00</td>\n",
       "      <td>1.000000e+01</td>\n",
       "      <td>1.110000e+03</td>\n",
       "      <td>1.000000e+00</td>\n",
       "      <td>1.000000e+00</td>\n",
       "      <td>2.600000e+01</td>\n",
       "      <td>4.100000e+01</td>\n",
       "    </tr>\n",
       "    <tr>\n",
       "      <th>25%</th>\n",
       "      <td>1.749812e+06</td>\n",
       "      <td>1.000000e+01</td>\n",
       "      <td>1.311000e+03</td>\n",
       "      <td>1.000000e+00</td>\n",
       "      <td>1.159000e+03</td>\n",
       "      <td>3.558290e+05</td>\n",
       "      <td>1.242000e+03</td>\n",
       "    </tr>\n",
       "    <tr>\n",
       "      <th>50%</th>\n",
       "      <td>3.499625e+06</td>\n",
       "      <td>1.000000e+01</td>\n",
       "      <td>1.612000e+03</td>\n",
       "      <td>1.000000e+00</td>\n",
       "      <td>1.305000e+03</td>\n",
       "      <td>1.200109e+06</td>\n",
       "      <td>3.150700e+04</td>\n",
       "    </tr>\n",
       "    <tr>\n",
       "      <th>75%</th>\n",
       "      <td>5.249438e+06</td>\n",
       "      <td>1.100000e+01</td>\n",
       "      <td>2.034000e+03</td>\n",
       "      <td>1.000000e+00</td>\n",
       "      <td>2.804000e+03</td>\n",
       "      <td>2.387881e+06</td>\n",
       "      <td>4.093000e+04</td>\n",
       "    </tr>\n",
       "    <tr>\n",
       "      <th>max</th>\n",
       "      <td>6.999250e+06</td>\n",
       "      <td>1.100000e+01</td>\n",
       "      <td>2.575900e+04</td>\n",
       "      <td>1.100000e+01</td>\n",
       "      <td>9.950000e+03</td>\n",
       "      <td>2.015152e+09</td>\n",
       "      <td>4.999700e+04</td>\n",
       "    </tr>\n",
       "  </tbody>\n",
       "</table>\n",
       "</div>"
      ],
      "text/plain": [
       "                 id        Semana    Agencia_ID      Canal_ID      Ruta_SAK  \\\n",
       "count  6.999251e+06  6.999251e+06  6.999251e+06  6.999251e+06  6.999251e+06   \n",
       "mean   3.499625e+06  1.049446e+01  2.504463e+03  1.401874e+00  2.138014e+03   \n",
       "std    2.020510e+06  4.999694e-01  4.010228e+03  1.513404e+00  1.500392e+03   \n",
       "min    0.000000e+00  1.000000e+01  1.110000e+03  1.000000e+00  1.000000e+00   \n",
       "25%    1.749812e+06  1.000000e+01  1.311000e+03  1.000000e+00  1.159000e+03   \n",
       "50%    3.499625e+06  1.000000e+01  1.612000e+03  1.000000e+00  1.305000e+03   \n",
       "75%    5.249438e+06  1.100000e+01  2.034000e+03  1.000000e+00  2.804000e+03   \n",
       "max    6.999250e+06  1.100000e+01  2.575900e+04  1.100000e+01  9.950000e+03   \n",
       "\n",
       "         Cliente_ID   Producto_ID  \n",
       "count  6.999251e+06  6.999251e+06  \n",
       "mean   1.819128e+06  2.216307e+04  \n",
       "std    2.938910e+06  1.869816e+04  \n",
       "min    2.600000e+01  4.100000e+01  \n",
       "25%    3.558290e+05  1.242000e+03  \n",
       "50%    1.200109e+06  3.150700e+04  \n",
       "75%    2.387881e+06  4.093000e+04  \n",
       "max    2.015152e+09  4.999700e+04  "
      ]
     },
     "execution_count": 7,
     "metadata": {},
     "output_type": "execute_result"
    }
   ],
   "source": [
    "test_df.describe()"
   ]
  },
  {
   "cell_type": "code",
   "execution_count": 2,
   "metadata": {
    "collapsed": false
   },
   "outputs": [],
   "source": [
    "train_folder = \"/resources/data/Bimbo/train/\"\n",
    "train_cols = ['Semana','Agencia_ID','Canal_ID','Ruta_SAK','Cliente_ID','Producto_ID','Venta_uni_hoy','Venta_hoy','Dev_uni_proxima','Dev_proxima','Demanda_uni_equil']\n",
    "train_list = assemble_from_csvs_train(train_folder, train_cols)"
   ]
  },
  {
   "cell_type": "code",
   "execution_count": 4,
   "metadata": {
    "collapsed": false
   },
   "outputs": [
    {
     "name": "stdout",
     "output_type": "stream",
     "text": [
      "15\n"
     ]
    }
   ],
   "source": [
    "l = len(train_list)\n",
    "print l"
   ]
  },
  {
   "cell_type": "code",
   "execution_count": 5,
   "metadata": {
    "collapsed": false
   },
   "outputs": [],
   "source": [
    "train_df = pd.concat(train_list[:5], axis=0, ignore_index=True)"
   ]
  },
  {
   "cell_type": "code",
   "execution_count": 6,
   "metadata": {
    "collapsed": false
   },
   "outputs": [
    {
     "data": {
      "text/html": [
       "<div>\n",
       "<table border=\"1\" class=\"dataframe\">\n",
       "  <thead>\n",
       "    <tr style=\"text-align: right;\">\n",
       "      <th></th>\n",
       "      <th>Semana</th>\n",
       "      <th>Agencia_ID</th>\n",
       "      <th>Canal_ID</th>\n",
       "      <th>Ruta_SAK</th>\n",
       "      <th>Cliente_ID</th>\n",
       "      <th>Producto_ID</th>\n",
       "      <th>Venta_uni_hoy</th>\n",
       "      <th>Venta_hoy</th>\n",
       "      <th>Dev_uni_proxima</th>\n",
       "      <th>Dev_proxima</th>\n",
       "      <th>Demanda_uni_equil</th>\n",
       "    </tr>\n",
       "  </thead>\n",
       "  <tbody>\n",
       "    <tr>\n",
       "      <th>0</th>\n",
       "      <td>6</td>\n",
       "      <td>2020</td>\n",
       "      <td>1</td>\n",
       "      <td>2402</td>\n",
       "      <td>100614</td>\n",
       "      <td>31507</td>\n",
       "      <td>5</td>\n",
       "      <td>26.000000</td>\n",
       "      <td>0</td>\n",
       "      <td>0.0</td>\n",
       "      <td>5</td>\n",
       "    </tr>\n",
       "    <tr>\n",
       "      <th>1</th>\n",
       "      <td>6</td>\n",
       "      <td>2020</td>\n",
       "      <td>1</td>\n",
       "      <td>2402</td>\n",
       "      <td>100614</td>\n",
       "      <td>31586</td>\n",
       "      <td>4</td>\n",
       "      <td>44.000000</td>\n",
       "      <td>0</td>\n",
       "      <td>0.0</td>\n",
       "      <td>4</td>\n",
       "    </tr>\n",
       "    <tr>\n",
       "      <th>2</th>\n",
       "      <td>6</td>\n",
       "      <td>2020</td>\n",
       "      <td>1</td>\n",
       "      <td>2402</td>\n",
       "      <td>100614</td>\n",
       "      <td>43058</td>\n",
       "      <td>5</td>\n",
       "      <td>43.599998</td>\n",
       "      <td>0</td>\n",
       "      <td>0.0</td>\n",
       "      <td>5</td>\n",
       "    </tr>\n",
       "    <tr>\n",
       "      <th>3</th>\n",
       "      <td>6</td>\n",
       "      <td>2020</td>\n",
       "      <td>1</td>\n",
       "      <td>2402</td>\n",
       "      <td>250149</td>\n",
       "      <td>30549</td>\n",
       "      <td>2</td>\n",
       "      <td>10.760000</td>\n",
       "      <td>0</td>\n",
       "      <td>0.0</td>\n",
       "      <td>2</td>\n",
       "    </tr>\n",
       "    <tr>\n",
       "      <th>4</th>\n",
       "      <td>6</td>\n",
       "      <td>2020</td>\n",
       "      <td>1</td>\n",
       "      <td>2402</td>\n",
       "      <td>250149</td>\n",
       "      <td>31507</td>\n",
       "      <td>4</td>\n",
       "      <td>25.000000</td>\n",
       "      <td>0</td>\n",
       "      <td>0.0</td>\n",
       "      <td>4</td>\n",
       "    </tr>\n",
       "  </tbody>\n",
       "</table>\n",
       "</div>"
      ],
      "text/plain": [
       "   Semana  Agencia_ID  Canal_ID  Ruta_SAK  Cliente_ID  Producto_ID  \\\n",
       "0       6        2020         1      2402      100614        31507   \n",
       "1       6        2020         1      2402      100614        31586   \n",
       "2       6        2020         1      2402      100614        43058   \n",
       "3       6        2020         1      2402      250149        30549   \n",
       "4       6        2020         1      2402      250149        31507   \n",
       "\n",
       "   Venta_uni_hoy  Venta_hoy  Dev_uni_proxima  Dev_proxima  Demanda_uni_equil  \n",
       "0              5  26.000000                0          0.0                  5  \n",
       "1              4  44.000000                0          0.0                  4  \n",
       "2              5  43.599998                0          0.0                  5  \n",
       "3              2  10.760000                0          0.0                  2  \n",
       "4              4  25.000000                0          0.0                  4  "
      ]
     },
     "execution_count": 6,
     "metadata": {},
     "output_type": "execute_result"
    }
   ],
   "source": [
    "train_df.head()"
   ]
  },
  {
   "cell_type": "code",
   "execution_count": null,
   "metadata": {
    "collapsed": true
   },
   "outputs": [],
   "source": [
    "train_df = test_df.sort_values(by = 'id')\n",
    "train_df.reset_index(drop=True, inplace=True)"
   ]
  },
  {
   "cell_type": "code",
   "execution_count": null,
   "metadata": {
    "collapsed": true
   },
   "outputs": [],
   "source": [
    "train_df.head()"
   ]
  }
 ],
 "metadata": {
  "kernelspec": {
   "display_name": "Python 2",
   "language": "python",
   "name": "python2"
  },
  "language_info": {
   "codemirror_mode": {
    "name": "ipython",
    "version": 2
   },
   "file_extension": ".py",
   "mimetype": "text/x-python",
   "name": "python",
   "nbconvert_exporter": "python",
   "pygments_lexer": "ipython2",
   "version": "2.7.11"
  },
  "widgets": {
   "state": {},
   "version": "1.1.2"
  }
 },
 "nbformat": 4,
 "nbformat_minor": 0
}

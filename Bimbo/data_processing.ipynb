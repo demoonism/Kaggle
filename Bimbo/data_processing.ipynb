{
 "cells": [
  {
   "cell_type": "code",
   "execution_count": 1,
   "metadata": {
    "collapsed": false
   },
   "outputs": [],
   "source": [
    "import numpy as np\n",
    "import pandas as pd\n",
    "import matplotlib.pyplot as plt\n",
    "import os\n",
    "from IPython.display import display_markdown as mkdown # as print"
   ]
  },
  {
   "cell_type": "code",
   "execution_count": 2,
   "metadata": {
    "collapsed": true
   },
   "outputs": [],
   "source": [
    "def nl():\n",
    "    print('\\n')\n",
    "\n",
    "def assemble_from_csvs(folder, cols):\n",
    "    return [pd.read_csv(os.path.join(folder, fl), sep=\",\", header=None, names=cols) \n",
    "            for fl in os.listdir(folder)] # concatenate here! saves code\n",
    "\n",
    "def assemble_from_csvs_train(folder, cols):\n",
    "    return [pd.read_csv(os.path.join(folder, fl), \n",
    "                        dtype  = {'Semana' : 'int32',\n",
    "                              'Agencia_ID' :'int32',\n",
    "                              'Canal_ID' : 'int32',\n",
    "                              'Ruta_SAK' : 'int32',\n",
    "                              'Cliente-ID' : 'int64',\n",
    "                              'Producto_ID':'int32',\n",
    "                              'Venta_hoy':'float32',\n",
    "                              'Venta_uni_hoy': 'int32',\n",
    "                              'Dev_uni_proxima':'int32',\n",
    "                              'Dev_proxima':'float32',\n",
    "                              'Demanda_uni_equil':'int32'},\n",
    "                        sep=\",\", header=None, names=cols) \n",
    "            for fl in os.listdir(folder)] # concatenate here! saves code\n"
   ]
  },
  {
   "cell_type": "markdown",
   "metadata": {},
   "source": [
    "# Uploadig Test data"
   ]
  },
  {
   "cell_type": "code",
   "execution_count": 41,
   "metadata": {
    "collapsed": false
   },
   "outputs": [],
   "source": [
    "test_folder = \"C:/Users/xians/Desktop/Kaggle/Bimbo/data/test\"\n",
    "test_cols = ['id','WeekNum','Sales_Depot_ID','Sales_Channel_ID','Route_ID','Client_ID','Product_ID']\n",
    "test_list = assemble_from_csvs(test_folder, test_cols)\n",
    "test_df = pd.concat(test_list, axis=0, ignore_index=True)"
   ]
  },
  {
   "cell_type": "code",
   "execution_count": 42,
   "metadata": {
    "collapsed": false
   },
   "outputs": [
    {
     "data": {
      "text/html": [
       "<div>\n",
       "<table border=\"1\" class=\"dataframe\">\n",
       "  <thead>\n",
       "    <tr style=\"text-align: right;\">\n",
       "      <th></th>\n",
       "      <th>id</th>\n",
       "      <th>WeekNum</th>\n",
       "      <th>Sales_Depot_ID</th>\n",
       "      <th>Sales_Channel_ID</th>\n",
       "      <th>Route_ID</th>\n",
       "      <th>Client_ID</th>\n",
       "      <th>Product_ID</th>\n",
       "    </tr>\n",
       "  </thead>\n",
       "  <tbody>\n",
       "    <tr>\n",
       "      <th>0</th>\n",
       "      <td>0</td>\n",
       "      <td>11</td>\n",
       "      <td>4037</td>\n",
       "      <td>1</td>\n",
       "      <td>2209</td>\n",
       "      <td>4639078</td>\n",
       "      <td>35305</td>\n",
       "    </tr>\n",
       "    <tr>\n",
       "      <th>1</th>\n",
       "      <td>1</td>\n",
       "      <td>11</td>\n",
       "      <td>2237</td>\n",
       "      <td>1</td>\n",
       "      <td>1226</td>\n",
       "      <td>4705135</td>\n",
       "      <td>1238</td>\n",
       "    </tr>\n",
       "    <tr>\n",
       "      <th>2</th>\n",
       "      <td>2</td>\n",
       "      <td>10</td>\n",
       "      <td>2045</td>\n",
       "      <td>1</td>\n",
       "      <td>2831</td>\n",
       "      <td>4549769</td>\n",
       "      <td>32940</td>\n",
       "    </tr>\n",
       "    <tr>\n",
       "      <th>3</th>\n",
       "      <td>3</td>\n",
       "      <td>11</td>\n",
       "      <td>1227</td>\n",
       "      <td>1</td>\n",
       "      <td>4448</td>\n",
       "      <td>4717855</td>\n",
       "      <td>43066</td>\n",
       "    </tr>\n",
       "    <tr>\n",
       "      <th>4</th>\n",
       "      <td>4</td>\n",
       "      <td>11</td>\n",
       "      <td>1219</td>\n",
       "      <td>1</td>\n",
       "      <td>1130</td>\n",
       "      <td>966351</td>\n",
       "      <td>1277</td>\n",
       "    </tr>\n",
       "  </tbody>\n",
       "</table>\n",
       "</div>"
      ],
      "text/plain": [
       "   id  WeekNum  Sales_Depot_ID  Sales_Channel_ID  Route_ID  Client_ID  \\\n",
       "0   0       11            4037                 1      2209    4639078   \n",
       "1   1       11            2237                 1      1226    4705135   \n",
       "2   2       10            2045                 1      2831    4549769   \n",
       "3   3       11            1227                 1      4448    4717855   \n",
       "4   4       11            1219                 1      1130     966351   \n",
       "\n",
       "   Product_ID  \n",
       "0       35305  \n",
       "1        1238  \n",
       "2       32940  \n",
       "3       43066  \n",
       "4        1277  "
      ]
     },
     "execution_count": 42,
     "metadata": {},
     "output_type": "execute_result"
    }
   ],
   "source": [
    "test_df.head()"
   ]
  },
  {
   "cell_type": "code",
   "execution_count": null,
   "metadata": {
    "collapsed": true
   },
   "outputs": [],
   "source": [
    "test_df = test_df.sort_values(by = 'id')\n",
    "test_df.reset_index(drop=True, inplace=True)"
   ]
  },
  {
   "cell_type": "code",
   "execution_count": null,
   "metadata": {
    "collapsed": false
   },
   "outputs": [],
   "source": [
    "test_df.head()"
   ]
  },
  {
   "cell_type": "code",
   "execution_count": null,
   "metadata": {
    "collapsed": true
   },
   "outputs": [],
   "source": [
    "pd.options.display.float_format = '{0:.2f}'.format"
   ]
  },
  {
   "cell_type": "code",
   "execution_count": null,
   "metadata": {
    "collapsed": false
   },
   "outputs": [],
   "source": [
    "test_df.describe()"
   ]
  },
  {
   "cell_type": "markdown",
   "metadata": {},
   "source": [
    "# Uploading Training Data"
   ]
  },
  {
   "cell_type": "code",
   "execution_count": 3,
   "metadata": {
    "collapsed": false
   },
   "outputs": [],
   "source": [
    "train_folder = \"C:/Users/xians/Desktop/Kaggle/Bimbo/data/train/\"\n",
    "train_cols = ['WeekNum','Sales_Depot_ID','Sales_Channel_ID','Route_ID','Client_ID','Product_ID','Sales_unit_this_week','Sales_this_week','Returns_unit_next_week','Returns_next_week','Adjusted_Demand']\n",
    "train_list = assemble_from_csvs_train(train_folder, train_cols)"
   ]
  },
  {
   "cell_type": "code",
   "execution_count": 4,
   "metadata": {
    "collapsed": false
   },
   "outputs": [
    {
     "name": "stdout",
     "output_type": "stream",
     "text": [
      "15\n"
     ]
    }
   ],
   "source": [
    "l = len(train_list)\n",
    "print l"
   ]
  },
  {
   "cell_type": "code",
   "execution_count": 5,
   "metadata": {
    "collapsed": false
   },
   "outputs": [],
   "source": [
    "train_df = pd.concat(train_list[:5], axis=0, ignore_index=True)"
   ]
  },
  {
   "cell_type": "code",
   "execution_count": 6,
   "metadata": {
    "collapsed": false
   },
   "outputs": [
    {
     "data": {
      "text/html": [
       "<div>\n",
       "<table border=\"1\" class=\"dataframe\">\n",
       "  <thead>\n",
       "    <tr style=\"text-align: right;\">\n",
       "      <th></th>\n",
       "      <th>WeekNum</th>\n",
       "      <th>Sales_Depot_ID</th>\n",
       "      <th>Sales_Channel_ID</th>\n",
       "      <th>Route_ID</th>\n",
       "      <th>Client_ID</th>\n",
       "      <th>Product_ID</th>\n",
       "      <th>Sales_unit_this_week</th>\n",
       "      <th>Sales_this_week</th>\n",
       "      <th>Returns_unit_next_week</th>\n",
       "      <th>Returns_next_week</th>\n",
       "      <th>Adjusted_Demand</th>\n",
       "    </tr>\n",
       "  </thead>\n",
       "  <tbody>\n",
       "    <tr>\n",
       "      <th>0</th>\n",
       "      <td>3</td>\n",
       "      <td>1110</td>\n",
       "      <td>7</td>\n",
       "      <td>3301</td>\n",
       "      <td>15766</td>\n",
       "      <td>1212</td>\n",
       "      <td>3</td>\n",
       "      <td>25.14</td>\n",
       "      <td>0</td>\n",
       "      <td>0.0</td>\n",
       "      <td>3</td>\n",
       "    </tr>\n",
       "    <tr>\n",
       "      <th>1</th>\n",
       "      <td>3</td>\n",
       "      <td>1110</td>\n",
       "      <td>7</td>\n",
       "      <td>3301</td>\n",
       "      <td>15766</td>\n",
       "      <td>1216</td>\n",
       "      <td>4</td>\n",
       "      <td>33.52</td>\n",
       "      <td>0</td>\n",
       "      <td>0.0</td>\n",
       "      <td>4</td>\n",
       "    </tr>\n",
       "    <tr>\n",
       "      <th>2</th>\n",
       "      <td>3</td>\n",
       "      <td>1110</td>\n",
       "      <td>7</td>\n",
       "      <td>3301</td>\n",
       "      <td>15766</td>\n",
       "      <td>1238</td>\n",
       "      <td>4</td>\n",
       "      <td>39.32</td>\n",
       "      <td>0</td>\n",
       "      <td>0.0</td>\n",
       "      <td>4</td>\n",
       "    </tr>\n",
       "    <tr>\n",
       "      <th>3</th>\n",
       "      <td>3</td>\n",
       "      <td>1110</td>\n",
       "      <td>7</td>\n",
       "      <td>3301</td>\n",
       "      <td>15766</td>\n",
       "      <td>1240</td>\n",
       "      <td>4</td>\n",
       "      <td>33.52</td>\n",
       "      <td>0</td>\n",
       "      <td>0.0</td>\n",
       "      <td>4</td>\n",
       "    </tr>\n",
       "    <tr>\n",
       "      <th>4</th>\n",
       "      <td>3</td>\n",
       "      <td>1110</td>\n",
       "      <td>7</td>\n",
       "      <td>3301</td>\n",
       "      <td>15766</td>\n",
       "      <td>1242</td>\n",
       "      <td>3</td>\n",
       "      <td>22.92</td>\n",
       "      <td>0</td>\n",
       "      <td>0.0</td>\n",
       "      <td>3</td>\n",
       "    </tr>\n",
       "  </tbody>\n",
       "</table>\n",
       "</div>"
      ],
      "text/plain": [
       "   WeekNum  Sales_Depot_ID  Sales_Channel_ID  Route_ID  Client_ID  Product_ID  \\\n",
       "0        3            1110                 7      3301      15766        1212   \n",
       "1        3            1110                 7      3301      15766        1216   \n",
       "2        3            1110                 7      3301      15766        1238   \n",
       "3        3            1110                 7      3301      15766        1240   \n",
       "4        3            1110                 7      3301      15766        1242   \n",
       "\n",
       "   Sales_unit_this_week  Sales_this_week  Returns_unit_next_week  \\\n",
       "0                     3            25.14                       0   \n",
       "1                     4            33.52                       0   \n",
       "2                     4            39.32                       0   \n",
       "3                     4            33.52                       0   \n",
       "4                     3            22.92                       0   \n",
       "\n",
       "   Returns_next_week  Adjusted_Demand  \n",
       "0                0.0                3  \n",
       "1                0.0                4  \n",
       "2                0.0                4  \n",
       "3                0.0                4  \n",
       "4                0.0                3  "
      ]
     },
     "execution_count": 6,
     "metadata": {},
     "output_type": "execute_result"
    }
   ],
   "source": [
    "train_df.head()"
   ]
  },
  {
   "cell_type": "code",
   "execution_count": 7,
   "metadata": {
    "collapsed": true
   },
   "outputs": [],
   "source": [
    "pd.options.display.float_format = '{0:.2f}'.format"
   ]
  },
  {
   "cell_type": "code",
   "execution_count": 8,
   "metadata": {
    "collapsed": false
   },
   "outputs": [
    {
     "data": {
      "text/html": [
       "<div>\n",
       "<table border=\"1\" class=\"dataframe\">\n",
       "  <thead>\n",
       "    <tr style=\"text-align: right;\">\n",
       "      <th></th>\n",
       "      <th>WeekNum</th>\n",
       "      <th>Sales_Depot_ID</th>\n",
       "      <th>Sales_Channel_ID</th>\n",
       "      <th>Route_ID</th>\n",
       "      <th>Client_ID</th>\n",
       "      <th>Product_ID</th>\n",
       "      <th>Sales_unit_this_week</th>\n",
       "      <th>Sales_this_week</th>\n",
       "      <th>Returns_unit_next_week</th>\n",
       "      <th>Returns_next_week</th>\n",
       "      <th>Adjusted_Demand</th>\n",
       "    </tr>\n",
       "  </thead>\n",
       "  <tbody>\n",
       "    <tr>\n",
       "      <th>count</th>\n",
       "      <td>24999999.00</td>\n",
       "      <td>24999999.00</td>\n",
       "      <td>24999999.00</td>\n",
       "      <td>24999999.00</td>\n",
       "      <td>24999999.00</td>\n",
       "      <td>24999999.00</td>\n",
       "      <td>24999999.00</td>\n",
       "      <td>24999999.00</td>\n",
       "      <td>24999999.00</td>\n",
       "      <td>24999999.00</td>\n",
       "      <td>24999999.00</td>\n",
       "    </tr>\n",
       "    <tr>\n",
       "      <th>mean</th>\n",
       "      <td>6.71</td>\n",
       "      <td>2334.78</td>\n",
       "      <td>1.39</td>\n",
       "      <td>2092.20</td>\n",
       "      <td>1783540.01</td>\n",
       "      <td>21024.57</td>\n",
       "      <td>7.33</td>\n",
       "      <td>68.61</td>\n",
       "      <td>0.13</td>\n",
       "      <td>1.26</td>\n",
       "      <td>7.24</td>\n",
       "    </tr>\n",
       "    <tr>\n",
       "      <th>std</th>\n",
       "      <td>1.93</td>\n",
       "      <td>3774.89</td>\n",
       "      <td>1.46</td>\n",
       "      <td>1477.50</td>\n",
       "      <td>2158704.99</td>\n",
       "      <td>18760.07</td>\n",
       "      <td>21.91</td>\n",
       "      <td>328.42</td>\n",
       "      <td>3.74</td>\n",
       "      <td>34.26</td>\n",
       "      <td>21.68</td>\n",
       "    </tr>\n",
       "    <tr>\n",
       "      <th>min</th>\n",
       "      <td>3.00</td>\n",
       "      <td>1110.00</td>\n",
       "      <td>1.00</td>\n",
       "      <td>1.00</td>\n",
       "      <td>26.00</td>\n",
       "      <td>41.00</td>\n",
       "      <td>0.00</td>\n",
       "      <td>0.00</td>\n",
       "      <td>0.00</td>\n",
       "      <td>0.00</td>\n",
       "      <td>0.00</td>\n",
       "    </tr>\n",
       "    <tr>\n",
       "      <th>25%</th>\n",
       "      <td>7.00</td>\n",
       "      <td>1239.00</td>\n",
       "      <td>1.00</td>\n",
       "      <td>1158.00</td>\n",
       "      <td>352103.00</td>\n",
       "      <td>1242.00</td>\n",
       "      <td>2.00</td>\n",
       "      <td>16.76</td>\n",
       "      <td>0.00</td>\n",
       "      <td>0.00</td>\n",
       "      <td>2.00</td>\n",
       "    </tr>\n",
       "    <tr>\n",
       "      <th>50%</th>\n",
       "      <td>7.00</td>\n",
       "      <td>1461.00</td>\n",
       "      <td>1.00</td>\n",
       "      <td>1286.00</td>\n",
       "      <td>1171363.00</td>\n",
       "      <td>30549.00</td>\n",
       "      <td>3.00</td>\n",
       "      <td>30.02</td>\n",
       "      <td>0.00</td>\n",
       "      <td>0.00</td>\n",
       "      <td>3.00</td>\n",
       "    </tr>\n",
       "    <tr>\n",
       "      <th>75%</th>\n",
       "      <td>8.00</td>\n",
       "      <td>2017.00</td>\n",
       "      <td>1.00</td>\n",
       "      <td>2182.00</td>\n",
       "      <td>2357980.00</td>\n",
       "      <td>40217.00</td>\n",
       "      <td>7.00</td>\n",
       "      <td>56.94</td>\n",
       "      <td>0.00</td>\n",
       "      <td>0.00</td>\n",
       "      <td>7.00</td>\n",
       "    </tr>\n",
       "    <tr>\n",
       "      <th>max</th>\n",
       "      <td>9.00</td>\n",
       "      <td>25759.00</td>\n",
       "      <td>11.00</td>\n",
       "      <td>9991.00</td>\n",
       "      <td>2015152015.00</td>\n",
       "      <td>49997.00</td>\n",
       "      <td>7200.00</td>\n",
       "      <td>382694.40</td>\n",
       "      <td>9765.00</td>\n",
       "      <td>93744.00</td>\n",
       "      <td>5000.00</td>\n",
       "    </tr>\n",
       "  </tbody>\n",
       "</table>\n",
       "</div>"
      ],
      "text/plain": [
       "          WeekNum  Sales_Depot_ID  Sales_Channel_ID    Route_ID     Client_ID  \\\n",
       "count 24999999.00     24999999.00       24999999.00 24999999.00   24999999.00   \n",
       "mean         6.71         2334.78              1.39     2092.20    1783540.01   \n",
       "std          1.93         3774.89              1.46     1477.50    2158704.99   \n",
       "min          3.00         1110.00              1.00        1.00         26.00   \n",
       "25%          7.00         1239.00              1.00     1158.00     352103.00   \n",
       "50%          7.00         1461.00              1.00     1286.00    1171363.00   \n",
       "75%          8.00         2017.00              1.00     2182.00    2357980.00   \n",
       "max          9.00        25759.00             11.00     9991.00 2015152015.00   \n",
       "\n",
       "       Product_ID  Sales_unit_this_week  Sales_this_week  \\\n",
       "count 24999999.00           24999999.00      24999999.00   \n",
       "mean     21024.57                  7.33            68.61   \n",
       "std      18760.07                 21.91           328.42   \n",
       "min         41.00                  0.00             0.00   \n",
       "25%       1242.00                  2.00            16.76   \n",
       "50%      30549.00                  3.00            30.02   \n",
       "75%      40217.00                  7.00            56.94   \n",
       "max      49997.00               7200.00        382694.40   \n",
       "\n",
       "       Returns_unit_next_week  Returns_next_week  Adjusted_Demand  \n",
       "count             24999999.00        24999999.00      24999999.00  \n",
       "mean                     0.13               1.26             7.24  \n",
       "std                      3.74              34.26            21.68  \n",
       "min                      0.00               0.00             0.00  \n",
       "25%                      0.00               0.00             2.00  \n",
       "50%                      0.00               0.00             3.00  \n",
       "75%                      0.00               0.00             7.00  \n",
       "max                   9765.00           93744.00          5000.00  "
      ]
     },
     "execution_count": 8,
     "metadata": {},
     "output_type": "execute_result"
    }
   ],
   "source": [
    "train_df.describe()"
   ]
  },
  {
   "cell_type": "markdown",
   "metadata": {},
   "source": [
    "# tell the notebook server to render charts inline"
   ]
  },
  {
   "cell_type": "code",
   "execution_count": 10,
   "metadata": {
    "collapsed": true
   },
   "outputs": [],
   "source": [
    "%matplotlib inline"
   ]
  },
  {
   "cell_type": "code",
   "execution_count": 15,
   "metadata": {
    "collapsed": false
   },
   "outputs": [
    {
     "data": {
      "text/plain": [
       "{'boxes': [<matplotlib.lines.Line2D at 0x427f0978>],\n",
       " 'caps': [<matplotlib.lines.Line2D at 0x428015f8>,\n",
       "  <matplotlib.lines.Line2D at 0x42801b70>],\n",
       " 'fliers': [<matplotlib.lines.Line2D at 0x49b916a0>],\n",
       " 'means': [],\n",
       " 'medians': [<matplotlib.lines.Line2D at 0x49b91128>],\n",
       " 'whiskers': [<matplotlib.lines.Line2D at 0x427f0a58>,\n",
       "  <matplotlib.lines.Line2D at 0x42801080>]}"
      ]
     },
     "execution_count": 15,
     "metadata": {},
     "output_type": "execute_result"
    },
    {
     "data": {
      "image/png": "[encoded data removed]",
      "text/plain": [
       "<matplotlib.figure.Figure at 0x401be978>"
      ]
     },
     "metadata": {},
     "output_type": "display_data"
    }
   ],
   "source": [
    "plt.boxplot(train_df.Returns_unit_next_week)"
   ]
  },
  {
   "cell_type": "code",
   "execution_count": 16,
   "metadata": {
    "collapsed": false
   },
   "outputs": [
    {
     "data": {
      "text/plain": [
       "WeekNum                   0\n",
       "Sales_Depot_ID            0\n",
       "Sales_Channel_ID          0\n",
       "Route_ID                  0\n",
       "Client_ID                 0\n",
       "Product_ID                0\n",
       "Sales_unit_this_week      0\n",
       "Sales_this_week           0\n",
       "Returns_unit_next_week    0\n",
       "Returns_next_week         0\n",
       "Adjusted_Demand           0\n",
       "dtype: int64"
      ]
     },
     "execution_count": 16,
     "metadata": {},
     "output_type": "execute_result"
    }
   ],
   "source": [
    "train_df.isnull().sum()"
   ]
  },
  {
   "cell_type": "code",
   "execution_count": null,
   "metadata": {
    "collapsed": false
   },
   "outputs": [],
   "source": [
    "plt.figure()\n",
    "plt.boxplot(train_df.Adjusted_Demand, 1)"
   ]
  },
  {
   "cell_type": "code",
   "execution_count": 18,
   "metadata": {
    "collapsed": true
   },
   "outputs": [],
   "source": [
    "def label_plot(title, x, y):\n",
    "    plt.title(title)\n",
    "    plt.xlabel(x)\n",
    "    plt.ylabel(y)"
   ]
  },
  {
   "cell_type": "code",
   "execution_count": 23,
   "metadata": {
    "collapsed": false
   },
   "outputs": [],
   "source": [
    "target = train_df['Sales_unit_this_week'].tolist()"
   ]
  },
  {
   "cell_type": "code",
   "execution_count": 21,
   "metadata": {
    "collapsed": false
   },
   "outputs": [
    {
     "data": {
      "text/plain": [
       "24999999"
      ]
     },
     "execution_count": 21,
     "metadata": {},
     "output_type": "execute_result"
    }
   ],
   "source": [
    "len(target)"
   ]
  },
  {
   "cell_type": "code",
   "execution_count": 25,
   "metadata": {
    "collapsed": false
   },
   "outputs": [
    {
     "data": {
      "image/png": "[encoded data removed]",
      "text/plain": [
       "<matplotlib.figure.Figure at 0x40a41470>"
      ]
     },
     "metadata": {},
     "output_type": "display_data"
    }
   ],
   "source": [
    "plt.hist(target, bins=10, color='blue')\n",
    "label_plot('Distribution of target values', 'Demanda_uni_equil', 'Count')"
   ]
  },
  {
   "cell_type": "code",
   "execution_count": null,
   "metadata": {
    "collapsed": true
   },
   "outputs": [],
   "source": [
    "plt.show()"
   ]
  },
  {
   "cell_type": "code",
   "execution_count": 33,
   "metadata": {
    "collapsed": false
   },
   "outputs": [],
   "source": [
    "client_df = pd.read_csv(\"C:/Users/xians/Desktop/Kaggle/Bimbo/data/cliente_tabla.csv\",sep=\",\") \n",
    "table1 = pd.merge(train_df,client_df, on = ['Client_ID'])\n",
    "del client_df, train_df"
   ]
  },
  {
   "cell_type": "code",
   "execution_count": 35,
   "metadata": {
    "collapsed": true
   },
   "outputs": [],
   "source": [
    "product_df = pd.read_csv(\"C:/Users/xians/Desktop/Kaggle/Bimbo/data/producto_tabla.csv\",sep=\",\")\n",
    "table2 = pd.merge(table1,product_df, on = ['Product_ID']) \n",
    "del table1, product_df"
   ]
  },
  {
   "cell_type": "code",
   "execution_count": 37,
   "metadata": {
    "collapsed": true
   },
   "outputs": [],
   "source": [
    "town_df = pd.read_csv(\"C:/Users/xians/Desktop/Kaggle/Bimbo/data/town_state.csv\",sep=\",\")\n",
    "ResultTable = pd.merge(table2,town_df, on = ['Sales_Depot_ID']) \n",
    "del table2, town_df"
   ]
  },
  {
   "cell_type": "code",
   "execution_count": 44,
   "metadata": {
    "collapsed": true
   },
   "outputs": [],
   "source": [
    "ResultTable.head()"
   ]
  },
  {
   "cell_type": "code",
   "execution_count": null,
   "metadata": {
    "collapsed": true
   },
   "outputs": [],
   "source": [
    "import xgboost as xgb"
   ]
  }
 ],
 "metadata": {
  "kernelspec": {
   "display_name": "Python [Root]",
   "language": "python",
   "name": "Python [Root]"
  },
  "language_info": {
   "codemirror_mode": {
    "name": "ipython",
    "version": 2
   },
   "file_extension": ".py",
   "mimetype": "text/x-python",
   "name": "python",
   "nbconvert_exporter": "python",
   "pygments_lexer": "ipython2",
   "version": "2.7.11"
  },
  "widgets": {
   "state": {},
   "version": "1.1.2"
  }
 },
 "nbformat": 4,
 "nbformat_minor": 0
}
